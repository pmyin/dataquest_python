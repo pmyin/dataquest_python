{
 "cells": [
  {
   "cell_type": "markdown",
   "metadata": {},
   "source": [
    "# Googleplay data analysis\n",
    "\n",
    "This is Goolgeplay data analysis\n",
    "\n",
    "- Create a dictionary where each key is a unique app name and the corresponding dictionary value is the highest number of reviews of that app.\n",
    "\n",
    "- Start by creating an empty dictionary named `reviews_max`.\n",
    "Loop through the Google Play data set (make sure you don't include the header row). For each iteration:\n",
    "Assign the app name to a variable named name.\n",
    "Convert the number of reviews to float. Assign it to a variable named `n_reviews`.\n",
    "\n",
    "If name already exists as a key in the reviews_max dictionary and reviews_max[name] < n_reviews, update the number of reviews for that entry in the reviews_max dictionary.\n",
    "If name is not in the reviews_max dictionary as a key, create a new entry in the dictionary where the key is the app name, and the value is the number of reviews. Make sure you don't use an else clause here, otherwise the number of reviews will be incorrectly updated whenever reviews_max[name] < n_reviews evaluates to False.\n",
    "Inspect the dictionary to make sure everything went as expected. Measure the length of the dictionary — remember that the expected length is 9,659 entries.\n",
    "Use the dictionary you created above to remove the duplicate rows:\n",
    "\n",
    "Start by creating two empty lists: android_clean (which will store our new cleaned data set) and already_added (which will just store app names).\n",
    "Loop through the Google Play data set (make sure you don't include the header row), and for each iteration:\n",
    "Assign the app name to a variable named name.\n",
    "Convert the number of reviews to float, and assign it to a variable named n_reviews.\n",
    "If n_reviews is the same as the number of maximum reviews of the app name (the number can be found in the reviews_max dictionary) and name is not already in the list already_added (read the solution notebook to find out why we need this supplementary condition):\n",
    "Append the entire row to the android_clean list (which will eventually be a list of list and store our cleaned data set).\n",
    "Append the name of the app name to the already_added list — this helps us to keep track of apps that we already added."
   ]
  },
  {
   "cell_type": "code",
   "execution_count": 1,
   "metadata": {
    "collapsed": false,
    "scrolled": true
   },
   "outputs": [
    {
     "name": "stdout",
     "output_type": "stream",
     "text": [
      "['284882215', 'Facebook', '389879808', 'USD', '0.0', '2974676', '212', '3.5', '3.5', '95.0', '4+', 'Social Networking', '37', '1', '29', '1']\n",
      "\n",
      "\n",
      "['389801252', 'Instagram', '113954816', 'USD', '0.0', '2161558', '1289', '4.5', '4.0', '10.23', '12+', 'Photo & Video', '37', '0', '29', '1']\n",
      "\n",
      "\n",
      "['Photo Editor & Candy Camera & Grid & ScrapBook', 'ART_AND_DESIGN', '4.1', '159', '19M', '10,000+', 'Free', '0', 'Everyone', 'Art & Design', 'January 7, 2018', '1.0.0', '4.0.3 and up']\n",
      "\n",
      "\n",
      "['Coloring book moana', 'ART_AND_DESIGN', '3.9', '967', '14M', '500,000+', 'Free', '0', 'Everyone', 'Art & Design;Pretend Play', 'January 15, 2018', '2.0.0', '4.0.3 and up']\n",
      "\n",
      "\n",
      "7198 16 10842 13 \n",
      "\n",
      "['id', 'track_name', 'size_bytes', 'currency', 'price', 'rating_count_tot', 'rating_count_ver', 'user_rating', 'user_rating_ver', 'ver', 'cont_rating', 'prime_genre', 'sup_devices.num', 'ipadSc_urls.num', 'lang.num', 'vpp_lic']\n",
      "\n",
      "\n",
      "['App', 'Category', 'Rating', 'Reviews', 'Size', 'Installs', 'Type', 'Price', 'Content Rating', 'Genres', 'Last Updated', 'Current Ver', 'Android Ver']\n",
      "\n",
      "\n"
     ]
    }
   ],
   "source": [
    "from csv import reader\n",
    "\n",
    "Applefile = open('AppleStore.csv', encoding=\"utf8\")\n",
    "readApple = reader(Applefile)\n",
    "apple_data = list(readApple)\n",
    "\n",
    "Googlefile = open('googleplaystore.csv', encoding=\"utf8\")\n",
    "readGoogle = reader(Googlefile)\n",
    "google_data = list(readGoogle)\n",
    "\n",
    "def explore_data(dataset, start, end, rows_and_columns=False):\n",
    "    dataset_slice = dataset[start:end]    \n",
    "    for row in dataset_slice:\n",
    "        print(row)\n",
    "        print('\\n') # adds a new (empty) line after each row\n",
    "\n",
    "    if rows_and_columns:\n",
    "        print('Number of rows:', len(dataset))\n",
    "        print('Number of columns:', len(dataset[0]))\n",
    "        \n",
    "explore_data(apple_data, 1, 3)\n",
    "explore_data(google_data, 1, 3)\n",
    "\n",
    "n_row_apple = len(apple_data)\n",
    "n_column_apple = len(apple_data[0])\n",
    "\n",
    "n_row_google = len(google_data)\n",
    "n_column_google = len(google_data[0])\n",
    "\n",
    "print(n_row_apple, n_column_apple, n_row_google, n_column_google, '\\n')\n",
    "\n",
    "explore_data(apple_data, 0, 1)\n",
    "explore_data(google_data, 0, 1)\n",
    "\n",
    "#del apple_data[100:]\n",
    "#del google_data[100:]\n",
    "\n",
    "# n_row_apple = len(apple_data)\n",
    "# n_column_apple = len(apple_data[0])\n",
    "\n",
    "# n_row_google = len(google_data)\n",
    "# n_column_google = len(google_data[0])\n",
    "\n",
    "# print(n_row_apple, n_column_apple, n_row_google, n_column_google, '\\n')\n"
   ]
  },
  {
   "cell_type": "code",
   "execution_count": 2,
   "metadata": {
    "collapsed": false
   },
   "outputs": [
    {
     "name": "stdout",
     "output_type": "stream",
     "text": [
      "['Quick PDF Scanner + OCR FREE', 'Box']\n"
     ]
    }
   ],
   "source": [
    "duplicate_apps = []\n",
    "unique_apps = []\n",
    "for app in google_data[1:]:\n",
    "    name = app[0]\n",
    "    if name in unique_apps:\n",
    "        duplicate_apps.append(name)\n",
    "    else:\n",
    "        unique_apps.append(name)\n",
    "\n",
    "print(duplicate_apps[0:2])"
   ]
  },
  {
   "cell_type": "code",
   "execution_count": 3,
   "metadata": {
    "collapsed": false
   },
   "outputs": [
    {
     "name": "stdout",
     "output_type": "stream",
     "text": [
      "1181\n"
     ]
    }
   ],
   "source": [
    "n_duplicate = len(duplicate_apps)\n",
    "print(len(duplicate_apps))"
   ]
  },
  {
   "cell_type": "code",
   "execution_count": 4,
   "metadata": {
    "collapsed": false
   },
   "outputs": [
    {
     "name": "stdout",
     "output_type": "stream",
     "text": [
      "Expected length: 9660\n"
     ]
    }
   ],
   "source": [
    "print('Expected length:', len(google_data[1:]) - n_duplicate)"
   ]
  },
  {
   "cell_type": "code",
   "execution_count": 5,
   "metadata": {
    "collapsed": false
   },
   "outputs": [
    {
     "name": "stdout",
     "output_type": "stream",
     "text": [
      "9660\n"
     ]
    }
   ],
   "source": [
    "reviews_max = {}\n",
    "for app in google_data[1:]:\n",
    "    name = app[0]\n",
    "    n_reviews = app[7]\n",
    "    if name in reviews_max and reviews_max[name] < n_reviews:\n",
    "        reviews_max[name] = n_reviews\n",
    "    if name not in reviews_max:\n",
    "        reviews_max[name] = n_reviews\n",
    "        \n",
    "print(len(reviews_max))\n",
    "    "
   ]
  },
  {
   "cell_type": "code",
   "execution_count": 6,
   "metadata": {
    "collapsed": false
   },
   "outputs": [
    {
     "name": "stdout",
     "output_type": "stream",
     "text": [
      "9660\n"
     ]
    }
   ],
   "source": [
    "android_clean = []\n",
    "already_added = []\n",
    "for app in google_data[1:]:\n",
    "    name = app[0]\n",
    "    n_reviews = app[7]\n",
    "    if n_reviews == reviews_max[name] and name not in already_added:\n",
    "        android_clean.append(app)\n",
    "        already_added.append(name)\n",
    "print(len(android_clean))"
   ]
  },
  {
   "cell_type": "code",
   "execution_count": 7,
   "metadata": {
    "collapsed": false,
    "scrolled": false
   },
   "outputs": [
    {
     "name": "stdout",
     "output_type": "stream",
     "text": [
      "['Photo Editor & Candy Camera & Grid & ScrapBook', 'ART_AND_DESIGN', '4.1', '159', '19M', '10,000+', 'Free', '0', 'Everyone', 'Art & Design', 'January 7, 2018', '1.0.0', '4.0.3 and up']\n"
     ]
    }
   ],
   "source": [
    "print(android_clean[0])"
   ]
  },
  {
   "cell_type": "code",
   "execution_count": 8,
   "metadata": {
    "collapsed": false
   },
   "outputs": [
    {
     "name": "stdout",
     "output_type": "stream",
     "text": [
      "True\n",
      "False\n",
      "True\n",
      "True\n"
     ]
    }
   ],
   "source": [
    "def check_character(a_string):\n",
    "    non_ch = 0\n",
    "    for character in a_string:\n",
    "        if ord(character) > 127:\n",
    "            non_ch += 1\n",
    "    if non_ch > 3:\n",
    "        return False\n",
    "    else:\n",
    "        return True\n",
    "\n",
    "print(check_character('Instagram'))\n",
    "print(check_character('爱奇艺PPS -《欢乐颂2》电视剧热播'))\n",
    "print(check_character('Docs To Go™ Free Office Suite'))\n",
    "print(check_character('Instachat 😜'))"
   ]
  },
  {
   "cell_type": "code",
   "execution_count": 9,
   "metadata": {
    "collapsed": false
   },
   "outputs": [
    {
     "name": "stdout",
     "output_type": "stream",
     "text": [
      "10841 6183\n"
     ]
    }
   ],
   "source": [
    "g_en_apps = []\n",
    "for app in google_data[1:]:\n",
    "    name = app[1]\n",
    "    if check_character(name):\n",
    "        g_en_apps.append(app)\n",
    "        \n",
    "a_en_apps = []\n",
    "for app in apple_data[1:]:\n",
    "    name = app[1]\n",
    "    if check_character(name):\n",
    "        a_en_apps.append(app) \n",
    "        \n",
    "print(len(g_en_apps), len(a_en_apps))"
   ]
  },
  {
   "cell_type": "code",
   "execution_count": 10,
   "metadata": {
    "collapsed": false
   },
   "outputs": [],
   "source": [
    "def removedollar(a_string):\n",
    "#    print(a_string)\n",
    "    if ord(a_string[0]) == ord('$'):\n",
    "#        print(a_string[1:])\n",
    "        return a_string[1:]\n",
    "    if ord(a_string[0]) == ord('E'):\n",
    "#        print('0')\n",
    "        return '0'\n",
    "#    print(a_string)\n",
    "    return a_string"
   ]
  },
  {
   "cell_type": "code",
   "execution_count": 11,
   "metadata": {
    "collapsed": false
   },
   "outputs": [
    {
     "name": "stdout",
     "output_type": "stream",
     "text": [
      "10041 929\n"
     ]
    }
   ],
   "source": [
    "g_free_apps = []\n",
    "for app in google_data[1:]:\n",
    "    price = app[7]\n",
    "    price = removedollar(price)\n",
    "    price = float(price)\n",
    "    if price == 0.0:\n",
    "        g_free_apps.append(app)\n",
    "        \n",
    "a_free_apps = []\n",
    "for app in apple_data[1:]:\n",
    "    price = float(app[7])\n",
    "    if price == 0.0:\n",
    "        a_free_apps.append(app) \n",
    "        \n",
    "print(len(g_free_apps), len(a_free_apps))"
   ]
  },
  {
   "cell_type": "code",
   "execution_count": 17,
   "metadata": {
    "collapsed": false
   },
   "outputs": [
    {
     "name": "stdout",
     "output_type": "stream",
     "text": [
      "2834\n",
      "23\n"
     ]
    }
   ],
   "source": [
    "google_genre = {}\n",
    "for key in google_data[1:]:\n",
    "    genre = key[11]\n",
    "    if genre in google_genre:\n",
    "        google_genre[genre] += 1\n",
    "    else:\n",
    "        google_genre[genre] = 1\n",
    "\n",
    "apple_genre = {}\n",
    "for key in apple_data[1:]:\n",
    "    genre = key[11]\n",
    "    if genre in apple_genre:\n",
    "        apple_genre[genre] += 1\n",
    "    else:\n",
    "        apple_genre[genre] = 1\n",
    "        \n",
    "print(len(google_genre))\n",
    "print(len(apple_genre))"
   ]
  },
  {
   "cell_type": "code",
   "execution_count": 27,
   "metadata": {
    "collapsed": false
   },
   "outputs": [
    {
     "name": "stdout",
     "output_type": "stream",
     "text": [
      "11\n",
      "23\n",
      "Games : 3862\n",
      "Entertainment : 535\n",
      "Education : 453\n",
      "Photo & Video : 349\n",
      "Utilities : 248\n",
      "Health & Fitness : 180\n",
      "Productivity : 178\n",
      "Social Networking : 167\n",
      "Lifestyle : 144\n",
      "Music : 138\n",
      "Shopping : 122\n",
      "Sports : 114\n",
      "Book : 112\n",
      "Finance : 104\n",
      "Travel : 81\n",
      "News : 75\n",
      "Weather : 72\n",
      "Reference : 64\n",
      "Food & Drink : 63\n",
      "Business : 57\n",
      "Navigation : 46\n",
      "Medical : 23\n",
      "Catalogs : 10\n"
     ]
    }
   ],
   "source": [
    "def freq_table(dataset, index):\n",
    "    data_freq = {}\n",
    "    for key in dataset[1:]:\n",
    "        name = key[index]\n",
    "        if name in data_freq:\n",
    "            data_freq[name] += 1\n",
    "        else:\n",
    "            data_freq[name] = 1\n",
    "    return data_freq\n",
    "\n",
    "def display_table(dataset, index):\n",
    "    table = freq_table(dataset, index)\n",
    "    print(len(table))\n",
    "    table_display = []\n",
    "    for key in table:\n",
    "        key_val_as_tuple = (table[key], key)\n",
    "        table_display.append(key_val_as_tuple)\n",
    "\n",
    "    table_sorted = sorted(table_display, reverse = True)\n",
    "    for entry in table_sorted:\n",
    "        print(entry[1], ':', entry[0])\n",
    "\n",
    "#print(apple_data[0][11])\n",
    "display_table(apple_data, 11)"
   ]
  },
  {
   "cell_type": "code",
   "execution_count": null,
   "metadata": {
    "collapsed": true
   },
   "outputs": [],
   "source": []
  }
 ],
 "metadata": {
  "kernelspec": {
   "display_name": "Python 3",
   "language": "python",
   "name": "python3"
  },
  "language_info": {
   "codemirror_mode": {
    "name": "ipython",
    "version": 3
   },
   "file_extension": ".py",
   "mimetype": "text/x-python",
   "name": "python",
   "nbconvert_exporter": "python",
   "pygments_lexer": "ipython3",
   "version": "3.4.3"
  }
 },
 "nbformat": 4,
 "nbformat_minor": 2
}
